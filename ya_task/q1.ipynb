{
 "cells": [
  {
   "cell_type": "code",
   "execution_count": 1,
   "metadata": {
    "collapsed": true
   },
   "outputs": [],
   "source": [
    "import pandas as pd\n",
    "import numpy as np\n",
    "import re\n",
    "import datetime\n",
    "import time\n",
    "from pandas import Series,DataFrame\n",
    "import matplotlib.pyplot as plt\n",
    "%matplotlib inline\n",
    "\n",
    "\n",
    "\n",
    "# 1 - Скачать Access Log сервера NASA за июль 1995 года\n",
    "# 2 - Распарсить файл в Pandas DataFrame\n",
    "# 3 - Посчитать кол-во обращений к каждому урлу\n",
    "# 4 - Найти топ-15 самый посещаемых урлов\n",
    "# 5 - Посчитать число запросов в секунду\n",
    "# 6 - Нарисовать график числа запросов в секунду\n",
    "# 7 - построить гистограмму распределения размеров запросов"
   ]
  },
  {
   "cell_type": "code",
   "execution_count": 2,
   "metadata": {},
   "outputs": [
    {
     "name": "stderr",
     "output_type": "stream",
     "text": [
      "b'Skipping line 131906: expected 8 fields, saw 9\\nSkipping line 132118: expected 8 fields, saw 9\\nSkipping line 132154: expected 8 fields, saw 9\\nSkipping line 132224: expected 8 fields, saw 9\\n'\n",
      "b'Skipping line 517923: expected 8 fields, saw 9\\n'\n",
      "b'Skipping line 840935: expected 8 fields, saw 9\\n'\n",
      "b'Skipping line 1008202: expected 8 fields, saw 9\\n'\n",
      "b'Skipping line 1051501: expected 8 fields, saw 9\\nSkipping line 1105478: expected 8 fields, saw 9\\n'\n",
      "b'Skipping line 1295174: expected 8 fields, saw 9\\n'\n",
      "b'Skipping line 1356360: expected 8 fields, saw 9\\n'\n",
      "b'Skipping line 1511872: expected 8 fields, saw 9\\nSkipping line 1511991: expected 8 fields, saw 9\\nSkipping line 1545658: expected 8 fields, saw 11\\n'\n"
     ]
    }
   ],
   "source": [
    "df = pd.read_csv('NASA_access_log_Jul95.txt',sep=' ',\\\n",
    "encoding='ISO-8859-1',header=None,\\\n",
    "error_bad_lines=False,engine='c',\\\n",
    "infer_datetime_format=True)"
   ]
  },
  {
   "cell_type": "code",
   "execution_count": 3,
   "metadata": {
    "collapsed": true
   },
   "outputs": [],
   "source": [
    "df.columns=['host','todel1','todel2','timestamp','timezone','requests','http_code','bitr']\n",
    "df = df.drop(['todel1', 'todel2'],axis=1)"
   ]
  },
  {
   "cell_type": "code",
   "execution_count": 4,
   "metadata": {
    "collapsed": true
   },
   "outputs": [],
   "source": [
    "df = df[df['timestamp'].notnull()]"
   ]
  },
  {
   "cell_type": "code",
   "execution_count": 5,
   "metadata": {
    "collapsed": true
   },
   "outputs": [],
   "source": [
    "df['timestamp'] = df['timestamp'].replace('\\[','',regex=True)\n",
    "df['timezone'] = df['timezone'].replace('\\]','',regex=True)"
   ]
  },
  {
   "cell_type": "code",
   "execution_count": 6,
   "metadata": {},
   "outputs": [
    {
     "data": {
      "text/plain": [
       "host\n",
       "piweba3y.prodigy.com    17571\n",
       "piweba4y.prodigy.com    11591\n",
       "piweba1y.prodigy.com     9868\n",
       "alyssa.prodigy.com       7852\n",
       "siltb10.orl.mmc.com      7573\n",
       "Name: requests, dtype: int64"
      ]
     },
     "execution_count": 6,
     "metadata": {},
     "output_type": "execute_result"
    }
   ],
   "source": [
    "df.groupby(['host'])['requests'].count().sort_values(ascending=False).head(5)"
   ]
  },
  {
   "cell_type": "code",
   "execution_count": 7,
   "metadata": {
    "collapsed": true
   },
   "outputs": [],
   "source": [
    "df['time'] = pd.to_datetime(df['timestamp'], format='%d/%b/%Y:%H:%M:%S')\n"
   ]
  },
  {
   "cell_type": "code",
   "execution_count": 8,
   "metadata": {
    "collapsed": true
   },
   "outputs": [],
   "source": [
    "#дф с шагом 1 секунда\n",
    "r1 = DataFrame(pd.date_range(start='1995-07-01 00:00:00', end='1995-07-28 13:32:25',freq='S'))\n",
    "r1.columns=['date']"
   ]
  },
  {
   "cell_type": "code",
   "execution_count": null,
   "metadata": {
    "collapsed": true
   },
   "outputs": [],
   "source": []
  },
  {
   "cell_type": "code",
   "execution_count": 9,
   "metadata": {},
   "outputs": [],
   "source": [
    "# #дф с кол-ом запросов в определенное время\n",
    "r2 = DataFrame(df.groupby('time')['time'].count())\n",
    "r2.index.name='date'\n",
    "r2.columns=['quantity']\n",
    "r2.reset_index(level=0, inplace=True)"
   ]
  },
  {
   "cell_type": "code",
   "execution_count": 10,
   "metadata": {},
   "outputs": [
    {
     "data": {
      "text/html": [
       "<div>\n",
       "<style scoped>\n",
       "    .dataframe tbody tr th:only-of-type {\n",
       "        vertical-align: middle;\n",
       "    }\n",
       "\n",
       "    .dataframe tbody tr th {\n",
       "        vertical-align: top;\n",
       "    }\n",
       "\n",
       "    .dataframe thead th {\n",
       "        text-align: right;\n",
       "    }\n",
       "</style>\n",
       "<table border=\"1\" class=\"dataframe\">\n",
       "  <thead>\n",
       "    <tr style=\"text-align: right;\">\n",
       "      <th></th>\n",
       "      <th>date</th>\n",
       "      <th>quantity</th>\n",
       "    </tr>\n",
       "  </thead>\n",
       "  <tbody>\n",
       "    <tr>\n",
       "      <th>0</th>\n",
       "      <td>1995-07-01 00:00:01</td>\n",
       "      <td>1</td>\n",
       "    </tr>\n",
       "    <tr>\n",
       "      <th>1</th>\n",
       "      <td>1995-07-01 00:00:06</td>\n",
       "      <td>1</td>\n",
       "    </tr>\n",
       "    <tr>\n",
       "      <th>2</th>\n",
       "      <td>1995-07-01 00:00:09</td>\n",
       "      <td>1</td>\n",
       "    </tr>\n",
       "    <tr>\n",
       "      <th>3</th>\n",
       "      <td>1995-07-01 00:00:11</td>\n",
       "      <td>2</td>\n",
       "    </tr>\n",
       "    <tr>\n",
       "      <th>4</th>\n",
       "      <td>1995-07-01 00:00:12</td>\n",
       "      <td>3</td>\n",
       "    </tr>\n",
       "    <tr>\n",
       "      <th>5</th>\n",
       "      <td>1995-07-01 00:00:13</td>\n",
       "      <td>2</td>\n",
       "    </tr>\n",
       "    <tr>\n",
       "      <th>6</th>\n",
       "      <td>1995-07-01 00:00:14</td>\n",
       "      <td>3</td>\n",
       "    </tr>\n",
       "    <tr>\n",
       "      <th>7</th>\n",
       "      <td>1995-07-01 00:00:15</td>\n",
       "      <td>3</td>\n",
       "    </tr>\n",
       "    <tr>\n",
       "      <th>8</th>\n",
       "      <td>1995-07-01 00:00:17</td>\n",
       "      <td>2</td>\n",
       "    </tr>\n",
       "    <tr>\n",
       "      <th>9</th>\n",
       "      <td>1995-07-01 00:00:18</td>\n",
       "      <td>1</td>\n",
       "    </tr>\n",
       "    <tr>\n",
       "      <th>10</th>\n",
       "      <td>1995-07-01 00:00:19</td>\n",
       "      <td>2</td>\n",
       "    </tr>\n",
       "    <tr>\n",
       "      <th>11</th>\n",
       "      <td>1995-07-01 00:00:24</td>\n",
       "      <td>1</td>\n",
       "    </tr>\n",
       "    <tr>\n",
       "      <th>12</th>\n",
       "      <td>1995-07-01 00:00:25</td>\n",
       "      <td>1</td>\n",
       "    </tr>\n",
       "    <tr>\n",
       "      <th>13</th>\n",
       "      <td>1995-07-01 00:00:27</td>\n",
       "      <td>1</td>\n",
       "    </tr>\n",
       "    <tr>\n",
       "      <th>14</th>\n",
       "      <td>1995-07-01 00:00:29</td>\n",
       "      <td>1</td>\n",
       "    </tr>\n",
       "    <tr>\n",
       "      <th>15</th>\n",
       "      <td>1995-07-01 00:00:33</td>\n",
       "      <td>1</td>\n",
       "    </tr>\n",
       "    <tr>\n",
       "      <th>16</th>\n",
       "      <td>1995-07-01 00:00:35</td>\n",
       "      <td>1</td>\n",
       "    </tr>\n",
       "    <tr>\n",
       "      <th>17</th>\n",
       "      <td>1995-07-01 00:00:37</td>\n",
       "      <td>1</td>\n",
       "    </tr>\n",
       "    <tr>\n",
       "      <th>18</th>\n",
       "      <td>1995-07-01 00:00:38</td>\n",
       "      <td>1</td>\n",
       "    </tr>\n",
       "    <tr>\n",
       "      <th>19</th>\n",
       "      <td>1995-07-01 00:00:40</td>\n",
       "      <td>1</td>\n",
       "    </tr>\n",
       "    <tr>\n",
       "      <th>20</th>\n",
       "      <td>1995-07-01 00:00:41</td>\n",
       "      <td>5</td>\n",
       "    </tr>\n",
       "    <tr>\n",
       "      <th>21</th>\n",
       "      <td>1995-07-01 00:00:43</td>\n",
       "      <td>1</td>\n",
       "    </tr>\n",
       "    <tr>\n",
       "      <th>22</th>\n",
       "      <td>1995-07-01 00:00:44</td>\n",
       "      <td>1</td>\n",
       "    </tr>\n",
       "    <tr>\n",
       "      <th>23</th>\n",
       "      <td>1995-07-01 00:00:50</td>\n",
       "      <td>1</td>\n",
       "    </tr>\n",
       "    <tr>\n",
       "      <th>24</th>\n",
       "      <td>1995-07-01 00:00:54</td>\n",
       "      <td>1</td>\n",
       "    </tr>\n",
       "    <tr>\n",
       "      <th>25</th>\n",
       "      <td>1995-07-01 00:00:58</td>\n",
       "      <td>1</td>\n",
       "    </tr>\n",
       "    <tr>\n",
       "      <th>26</th>\n",
       "      <td>1995-07-01 00:00:59</td>\n",
       "      <td>2</td>\n",
       "    </tr>\n",
       "    <tr>\n",
       "      <th>27</th>\n",
       "      <td>1995-07-01 00:01:02</td>\n",
       "      <td>1</td>\n",
       "    </tr>\n",
       "    <tr>\n",
       "      <th>28</th>\n",
       "      <td>1995-07-01 00:01:04</td>\n",
       "      <td>3</td>\n",
       "    </tr>\n",
       "    <tr>\n",
       "      <th>29</th>\n",
       "      <td>1995-07-01 00:01:05</td>\n",
       "      <td>1</td>\n",
       "    </tr>\n",
       "    <tr>\n",
       "      <th>...</th>\n",
       "      <td>...</td>\n",
       "      <td>...</td>\n",
       "    </tr>\n",
       "    <tr>\n",
       "      <th>1099764</th>\n",
       "      <td>1995-07-28 13:31:46</td>\n",
       "      <td>4</td>\n",
       "    </tr>\n",
       "    <tr>\n",
       "      <th>1099765</th>\n",
       "      <td>1995-07-28 13:31:47</td>\n",
       "      <td>3</td>\n",
       "    </tr>\n",
       "    <tr>\n",
       "      <th>1099766</th>\n",
       "      <td>1995-07-28 13:31:49</td>\n",
       "      <td>6</td>\n",
       "    </tr>\n",
       "    <tr>\n",
       "      <th>1099767</th>\n",
       "      <td>1995-07-28 13:31:50</td>\n",
       "      <td>5</td>\n",
       "    </tr>\n",
       "    <tr>\n",
       "      <th>1099768</th>\n",
       "      <td>1995-07-28 13:31:51</td>\n",
       "      <td>3</td>\n",
       "    </tr>\n",
       "    <tr>\n",
       "      <th>1099769</th>\n",
       "      <td>1995-07-28 13:31:52</td>\n",
       "      <td>2</td>\n",
       "    </tr>\n",
       "    <tr>\n",
       "      <th>1099770</th>\n",
       "      <td>1995-07-28 13:31:53</td>\n",
       "      <td>2</td>\n",
       "    </tr>\n",
       "    <tr>\n",
       "      <th>1099771</th>\n",
       "      <td>1995-07-28 13:31:54</td>\n",
       "      <td>1</td>\n",
       "    </tr>\n",
       "    <tr>\n",
       "      <th>1099772</th>\n",
       "      <td>1995-07-28 13:31:55</td>\n",
       "      <td>2</td>\n",
       "    </tr>\n",
       "    <tr>\n",
       "      <th>1099773</th>\n",
       "      <td>1995-07-28 13:31:57</td>\n",
       "      <td>2</td>\n",
       "    </tr>\n",
       "    <tr>\n",
       "      <th>1099774</th>\n",
       "      <td>1995-07-28 13:31:58</td>\n",
       "      <td>1</td>\n",
       "    </tr>\n",
       "    <tr>\n",
       "      <th>1099775</th>\n",
       "      <td>1995-07-28 13:31:59</td>\n",
       "      <td>2</td>\n",
       "    </tr>\n",
       "    <tr>\n",
       "      <th>1099776</th>\n",
       "      <td>1995-07-28 13:32:00</td>\n",
       "      <td>3</td>\n",
       "    </tr>\n",
       "    <tr>\n",
       "      <th>1099777</th>\n",
       "      <td>1995-07-28 13:32:01</td>\n",
       "      <td>1</td>\n",
       "    </tr>\n",
       "    <tr>\n",
       "      <th>1099778</th>\n",
       "      <td>1995-07-28 13:32:03</td>\n",
       "      <td>1</td>\n",
       "    </tr>\n",
       "    <tr>\n",
       "      <th>1099779</th>\n",
       "      <td>1995-07-28 13:32:04</td>\n",
       "      <td>3</td>\n",
       "    </tr>\n",
       "    <tr>\n",
       "      <th>1099780</th>\n",
       "      <td>1995-07-28 13:32:06</td>\n",
       "      <td>2</td>\n",
       "    </tr>\n",
       "    <tr>\n",
       "      <th>1099781</th>\n",
       "      <td>1995-07-28 13:32:11</td>\n",
       "      <td>4</td>\n",
       "    </tr>\n",
       "    <tr>\n",
       "      <th>1099782</th>\n",
       "      <td>1995-07-28 13:32:12</td>\n",
       "      <td>2</td>\n",
       "    </tr>\n",
       "    <tr>\n",
       "      <th>1099783</th>\n",
       "      <td>1995-07-28 13:32:13</td>\n",
       "      <td>1</td>\n",
       "    </tr>\n",
       "    <tr>\n",
       "      <th>1099784</th>\n",
       "      <td>1995-07-28 13:32:14</td>\n",
       "      <td>1</td>\n",
       "    </tr>\n",
       "    <tr>\n",
       "      <th>1099785</th>\n",
       "      <td>1995-07-28 13:32:16</td>\n",
       "      <td>3</td>\n",
       "    </tr>\n",
       "    <tr>\n",
       "      <th>1099786</th>\n",
       "      <td>1995-07-28 13:32:17</td>\n",
       "      <td>1</td>\n",
       "    </tr>\n",
       "    <tr>\n",
       "      <th>1099787</th>\n",
       "      <td>1995-07-28 13:32:18</td>\n",
       "      <td>2</td>\n",
       "    </tr>\n",
       "    <tr>\n",
       "      <th>1099788</th>\n",
       "      <td>1995-07-28 13:32:19</td>\n",
       "      <td>2</td>\n",
       "    </tr>\n",
       "    <tr>\n",
       "      <th>1099789</th>\n",
       "      <td>1995-07-28 13:32:20</td>\n",
       "      <td>4</td>\n",
       "    </tr>\n",
       "    <tr>\n",
       "      <th>1099790</th>\n",
       "      <td>1995-07-28 13:32:21</td>\n",
       "      <td>3</td>\n",
       "    </tr>\n",
       "    <tr>\n",
       "      <th>1099791</th>\n",
       "      <td>1995-07-28 13:32:22</td>\n",
       "      <td>5</td>\n",
       "    </tr>\n",
       "    <tr>\n",
       "      <th>1099792</th>\n",
       "      <td>1995-07-28 13:32:23</td>\n",
       "      <td>3</td>\n",
       "    </tr>\n",
       "    <tr>\n",
       "      <th>1099793</th>\n",
       "      <td>1995-07-28 13:32:25</td>\n",
       "      <td>1</td>\n",
       "    </tr>\n",
       "  </tbody>\n",
       "</table>\n",
       "<p>1099794 rows × 2 columns</p>\n",
       "</div>"
      ],
      "text/plain": [
       "                       date  quantity\n",
       "0       1995-07-01 00:00:01         1\n",
       "1       1995-07-01 00:00:06         1\n",
       "2       1995-07-01 00:00:09         1\n",
       "3       1995-07-01 00:00:11         2\n",
       "4       1995-07-01 00:00:12         3\n",
       "5       1995-07-01 00:00:13         2\n",
       "6       1995-07-01 00:00:14         3\n",
       "7       1995-07-01 00:00:15         3\n",
       "8       1995-07-01 00:00:17         2\n",
       "9       1995-07-01 00:00:18         1\n",
       "10      1995-07-01 00:00:19         2\n",
       "11      1995-07-01 00:00:24         1\n",
       "12      1995-07-01 00:00:25         1\n",
       "13      1995-07-01 00:00:27         1\n",
       "14      1995-07-01 00:00:29         1\n",
       "15      1995-07-01 00:00:33         1\n",
       "16      1995-07-01 00:00:35         1\n",
       "17      1995-07-01 00:00:37         1\n",
       "18      1995-07-01 00:00:38         1\n",
       "19      1995-07-01 00:00:40         1\n",
       "20      1995-07-01 00:00:41         5\n",
       "21      1995-07-01 00:00:43         1\n",
       "22      1995-07-01 00:00:44         1\n",
       "23      1995-07-01 00:00:50         1\n",
       "24      1995-07-01 00:00:54         1\n",
       "25      1995-07-01 00:00:58         1\n",
       "26      1995-07-01 00:00:59         2\n",
       "27      1995-07-01 00:01:02         1\n",
       "28      1995-07-01 00:01:04         3\n",
       "29      1995-07-01 00:01:05         1\n",
       "...                     ...       ...\n",
       "1099764 1995-07-28 13:31:46         4\n",
       "1099765 1995-07-28 13:31:47         3\n",
       "1099766 1995-07-28 13:31:49         6\n",
       "1099767 1995-07-28 13:31:50         5\n",
       "1099768 1995-07-28 13:31:51         3\n",
       "1099769 1995-07-28 13:31:52         2\n",
       "1099770 1995-07-28 13:31:53         2\n",
       "1099771 1995-07-28 13:31:54         1\n",
       "1099772 1995-07-28 13:31:55         2\n",
       "1099773 1995-07-28 13:31:57         2\n",
       "1099774 1995-07-28 13:31:58         1\n",
       "1099775 1995-07-28 13:31:59         2\n",
       "1099776 1995-07-28 13:32:00         3\n",
       "1099777 1995-07-28 13:32:01         1\n",
       "1099778 1995-07-28 13:32:03         1\n",
       "1099779 1995-07-28 13:32:04         3\n",
       "1099780 1995-07-28 13:32:06         2\n",
       "1099781 1995-07-28 13:32:11         4\n",
       "1099782 1995-07-28 13:32:12         2\n",
       "1099783 1995-07-28 13:32:13         1\n",
       "1099784 1995-07-28 13:32:14         1\n",
       "1099785 1995-07-28 13:32:16         3\n",
       "1099786 1995-07-28 13:32:17         1\n",
       "1099787 1995-07-28 13:32:18         2\n",
       "1099788 1995-07-28 13:32:19         2\n",
       "1099789 1995-07-28 13:32:20         4\n",
       "1099790 1995-07-28 13:32:21         3\n",
       "1099791 1995-07-28 13:32:22         5\n",
       "1099792 1995-07-28 13:32:23         3\n",
       "1099793 1995-07-28 13:32:25         1\n",
       "\n",
       "[1099794 rows x 2 columns]"
      ]
     },
     "execution_count": 10,
     "metadata": {},
     "output_type": "execute_result"
    }
   ],
   "source": [
    "r2"
   ]
  },
  {
   "cell_type": "code",
   "execution_count": 10,
   "metadata": {
    "collapsed": true
   },
   "outputs": [],
   "source": [
    "# data = DataFrame(df['timestamp'])\n",
    "# count = data.size\n",
    "# ones = np.ones(count, dtype=int)\n",
    "# data['Counts'] = ones\n",
    "# grouped = df.groupby('Request_Time').count()"
   ]
  },
  {
   "cell_type": "code",
   "execution_count": null,
   "metadata": {
    "collapsed": true
   },
   "outputs": [],
   "source": []
  },
  {
   "cell_type": "code",
   "execution_count": 11,
   "metadata": {
    "collapsed": true
   },
   "outputs": [],
   "source": [
    "r3 = r1.merge(r2,how='outer')\n",
    "r3 = r3.fillna(0)"
   ]
  },
  {
   "cell_type": "code",
   "execution_count": 12,
   "metadata": {
    "collapsed": true
   },
   "outputs": [],
   "source": [
    "df44 = r3.sort_values('date', ascending=True)\n"
   ]
  },
  {
   "cell_type": "code",
   "execution_count": 59,
   "metadata": {},
   "outputs": [
    {
     "data": {
      "text/html": [
       "<div>\n",
       "<style scoped>\n",
       "    .dataframe tbody tr th:only-of-type {\n",
       "        vertical-align: middle;\n",
       "    }\n",
       "\n",
       "    .dataframe tbody tr th {\n",
       "        vertical-align: top;\n",
       "    }\n",
       "\n",
       "    .dataframe thead th {\n",
       "        text-align: right;\n",
       "    }\n",
       "</style>\n",
       "<table border=\"1\" class=\"dataframe\">\n",
       "  <thead>\n",
       "    <tr style=\"text-align: right;\">\n",
       "      <th></th>\n",
       "      <th>date</th>\n",
       "      <th>quantity</th>\n",
       "      <th>day</th>\n",
       "    </tr>\n",
       "  </thead>\n",
       "  <tbody>\n",
       "    <tr>\n",
       "      <th>0</th>\n",
       "      <td>1995-07-01 00:00:00</td>\n",
       "      <td>0.0</td>\n",
       "      <td>1</td>\n",
       "    </tr>\n",
       "    <tr>\n",
       "      <th>1</th>\n",
       "      <td>1995-07-01 00:00:01</td>\n",
       "      <td>1.0</td>\n",
       "      <td>1</td>\n",
       "    </tr>\n",
       "    <tr>\n",
       "      <th>2</th>\n",
       "      <td>1995-07-01 00:00:02</td>\n",
       "      <td>0.0</td>\n",
       "      <td>1</td>\n",
       "    </tr>\n",
       "    <tr>\n",
       "      <th>3</th>\n",
       "      <td>1995-07-01 00:00:03</td>\n",
       "      <td>0.0</td>\n",
       "      <td>1</td>\n",
       "    </tr>\n",
       "    <tr>\n",
       "      <th>4</th>\n",
       "      <td>1995-07-01 00:00:04</td>\n",
       "      <td>0.0</td>\n",
       "      <td>1</td>\n",
       "    </tr>\n",
       "    <tr>\n",
       "      <th>5</th>\n",
       "      <td>1995-07-01 00:00:05</td>\n",
       "      <td>0.0</td>\n",
       "      <td>1</td>\n",
       "    </tr>\n",
       "    <tr>\n",
       "      <th>6</th>\n",
       "      <td>1995-07-01 00:00:06</td>\n",
       "      <td>1.0</td>\n",
       "      <td>1</td>\n",
       "    </tr>\n",
       "    <tr>\n",
       "      <th>7</th>\n",
       "      <td>1995-07-01 00:00:07</td>\n",
       "      <td>0.0</td>\n",
       "      <td>1</td>\n",
       "    </tr>\n",
       "    <tr>\n",
       "      <th>8</th>\n",
       "      <td>1995-07-01 00:00:08</td>\n",
       "      <td>0.0</td>\n",
       "      <td>1</td>\n",
       "    </tr>\n",
       "    <tr>\n",
       "      <th>9</th>\n",
       "      <td>1995-07-01 00:00:09</td>\n",
       "      <td>1.0</td>\n",
       "      <td>1</td>\n",
       "    </tr>\n",
       "    <tr>\n",
       "      <th>10</th>\n",
       "      <td>1995-07-01 00:00:10</td>\n",
       "      <td>0.0</td>\n",
       "      <td>1</td>\n",
       "    </tr>\n",
       "    <tr>\n",
       "      <th>11</th>\n",
       "      <td>1995-07-01 00:00:11</td>\n",
       "      <td>2.0</td>\n",
       "      <td>1</td>\n",
       "    </tr>\n",
       "    <tr>\n",
       "      <th>12</th>\n",
       "      <td>1995-07-01 00:00:12</td>\n",
       "      <td>3.0</td>\n",
       "      <td>1</td>\n",
       "    </tr>\n",
       "    <tr>\n",
       "      <th>13</th>\n",
       "      <td>1995-07-01 00:00:13</td>\n",
       "      <td>2.0</td>\n",
       "      <td>1</td>\n",
       "    </tr>\n",
       "    <tr>\n",
       "      <th>14</th>\n",
       "      <td>1995-07-01 00:00:14</td>\n",
       "      <td>3.0</td>\n",
       "      <td>1</td>\n",
       "    </tr>\n",
       "    <tr>\n",
       "      <th>15</th>\n",
       "      <td>1995-07-01 00:00:15</td>\n",
       "      <td>3.0</td>\n",
       "      <td>1</td>\n",
       "    </tr>\n",
       "    <tr>\n",
       "      <th>16</th>\n",
       "      <td>1995-07-01 00:00:16</td>\n",
       "      <td>0.0</td>\n",
       "      <td>1</td>\n",
       "    </tr>\n",
       "    <tr>\n",
       "      <th>17</th>\n",
       "      <td>1995-07-01 00:00:17</td>\n",
       "      <td>2.0</td>\n",
       "      <td>1</td>\n",
       "    </tr>\n",
       "    <tr>\n",
       "      <th>18</th>\n",
       "      <td>1995-07-01 00:00:18</td>\n",
       "      <td>1.0</td>\n",
       "      <td>1</td>\n",
       "    </tr>\n",
       "    <tr>\n",
       "      <th>19</th>\n",
       "      <td>1995-07-01 00:00:19</td>\n",
       "      <td>2.0</td>\n",
       "      <td>1</td>\n",
       "    </tr>\n",
       "    <tr>\n",
       "      <th>20</th>\n",
       "      <td>1995-07-01 00:00:20</td>\n",
       "      <td>0.0</td>\n",
       "      <td>1</td>\n",
       "    </tr>\n",
       "    <tr>\n",
       "      <th>21</th>\n",
       "      <td>1995-07-01 00:00:21</td>\n",
       "      <td>0.0</td>\n",
       "      <td>1</td>\n",
       "    </tr>\n",
       "    <tr>\n",
       "      <th>22</th>\n",
       "      <td>1995-07-01 00:00:22</td>\n",
       "      <td>0.0</td>\n",
       "      <td>1</td>\n",
       "    </tr>\n",
       "    <tr>\n",
       "      <th>23</th>\n",
       "      <td>1995-07-01 00:00:23</td>\n",
       "      <td>0.0</td>\n",
       "      <td>1</td>\n",
       "    </tr>\n",
       "    <tr>\n",
       "      <th>24</th>\n",
       "      <td>1995-07-01 00:00:24</td>\n",
       "      <td>1.0</td>\n",
       "      <td>1</td>\n",
       "    </tr>\n",
       "    <tr>\n",
       "      <th>25</th>\n",
       "      <td>1995-07-01 00:00:25</td>\n",
       "      <td>1.0</td>\n",
       "      <td>1</td>\n",
       "    </tr>\n",
       "    <tr>\n",
       "      <th>26</th>\n",
       "      <td>1995-07-01 00:00:26</td>\n",
       "      <td>0.0</td>\n",
       "      <td>1</td>\n",
       "    </tr>\n",
       "    <tr>\n",
       "      <th>27</th>\n",
       "      <td>1995-07-01 00:00:27</td>\n",
       "      <td>1.0</td>\n",
       "      <td>1</td>\n",
       "    </tr>\n",
       "    <tr>\n",
       "      <th>28</th>\n",
       "      <td>1995-07-01 00:00:28</td>\n",
       "      <td>0.0</td>\n",
       "      <td>1</td>\n",
       "    </tr>\n",
       "    <tr>\n",
       "      <th>29</th>\n",
       "      <td>1995-07-01 00:00:29</td>\n",
       "      <td>1.0</td>\n",
       "      <td>1</td>\n",
       "    </tr>\n",
       "    <tr>\n",
       "      <th>...</th>\n",
       "      <td>...</td>\n",
       "      <td>...</td>\n",
       "      <td>...</td>\n",
       "    </tr>\n",
       "    <tr>\n",
       "      <th>2381516</th>\n",
       "      <td>1995-07-28 13:31:56</td>\n",
       "      <td>0.0</td>\n",
       "      <td>28</td>\n",
       "    </tr>\n",
       "    <tr>\n",
       "      <th>2381517</th>\n",
       "      <td>1995-07-28 13:31:57</td>\n",
       "      <td>2.0</td>\n",
       "      <td>28</td>\n",
       "    </tr>\n",
       "    <tr>\n",
       "      <th>2381518</th>\n",
       "      <td>1995-07-28 13:31:58</td>\n",
       "      <td>1.0</td>\n",
       "      <td>28</td>\n",
       "    </tr>\n",
       "    <tr>\n",
       "      <th>2381519</th>\n",
       "      <td>1995-07-28 13:31:59</td>\n",
       "      <td>2.0</td>\n",
       "      <td>28</td>\n",
       "    </tr>\n",
       "    <tr>\n",
       "      <th>2381520</th>\n",
       "      <td>1995-07-28 13:32:00</td>\n",
       "      <td>3.0</td>\n",
       "      <td>28</td>\n",
       "    </tr>\n",
       "    <tr>\n",
       "      <th>2381521</th>\n",
       "      <td>1995-07-28 13:32:01</td>\n",
       "      <td>1.0</td>\n",
       "      <td>28</td>\n",
       "    </tr>\n",
       "    <tr>\n",
       "      <th>2381522</th>\n",
       "      <td>1995-07-28 13:32:02</td>\n",
       "      <td>0.0</td>\n",
       "      <td>28</td>\n",
       "    </tr>\n",
       "    <tr>\n",
       "      <th>2381523</th>\n",
       "      <td>1995-07-28 13:32:03</td>\n",
       "      <td>1.0</td>\n",
       "      <td>28</td>\n",
       "    </tr>\n",
       "    <tr>\n",
       "      <th>2381524</th>\n",
       "      <td>1995-07-28 13:32:04</td>\n",
       "      <td>3.0</td>\n",
       "      <td>28</td>\n",
       "    </tr>\n",
       "    <tr>\n",
       "      <th>2381525</th>\n",
       "      <td>1995-07-28 13:32:05</td>\n",
       "      <td>0.0</td>\n",
       "      <td>28</td>\n",
       "    </tr>\n",
       "    <tr>\n",
       "      <th>2381526</th>\n",
       "      <td>1995-07-28 13:32:06</td>\n",
       "      <td>2.0</td>\n",
       "      <td>28</td>\n",
       "    </tr>\n",
       "    <tr>\n",
       "      <th>2381527</th>\n",
       "      <td>1995-07-28 13:32:07</td>\n",
       "      <td>0.0</td>\n",
       "      <td>28</td>\n",
       "    </tr>\n",
       "    <tr>\n",
       "      <th>2381528</th>\n",
       "      <td>1995-07-28 13:32:08</td>\n",
       "      <td>0.0</td>\n",
       "      <td>28</td>\n",
       "    </tr>\n",
       "    <tr>\n",
       "      <th>2381529</th>\n",
       "      <td>1995-07-28 13:32:09</td>\n",
       "      <td>0.0</td>\n",
       "      <td>28</td>\n",
       "    </tr>\n",
       "    <tr>\n",
       "      <th>2381530</th>\n",
       "      <td>1995-07-28 13:32:10</td>\n",
       "      <td>0.0</td>\n",
       "      <td>28</td>\n",
       "    </tr>\n",
       "    <tr>\n",
       "      <th>2381531</th>\n",
       "      <td>1995-07-28 13:32:11</td>\n",
       "      <td>4.0</td>\n",
       "      <td>28</td>\n",
       "    </tr>\n",
       "    <tr>\n",
       "      <th>2381532</th>\n",
       "      <td>1995-07-28 13:32:12</td>\n",
       "      <td>2.0</td>\n",
       "      <td>28</td>\n",
       "    </tr>\n",
       "    <tr>\n",
       "      <th>2381533</th>\n",
       "      <td>1995-07-28 13:32:13</td>\n",
       "      <td>1.0</td>\n",
       "      <td>28</td>\n",
       "    </tr>\n",
       "    <tr>\n",
       "      <th>2381534</th>\n",
       "      <td>1995-07-28 13:32:14</td>\n",
       "      <td>1.0</td>\n",
       "      <td>28</td>\n",
       "    </tr>\n",
       "    <tr>\n",
       "      <th>2381535</th>\n",
       "      <td>1995-07-28 13:32:15</td>\n",
       "      <td>0.0</td>\n",
       "      <td>28</td>\n",
       "    </tr>\n",
       "    <tr>\n",
       "      <th>2381536</th>\n",
       "      <td>1995-07-28 13:32:16</td>\n",
       "      <td>3.0</td>\n",
       "      <td>28</td>\n",
       "    </tr>\n",
       "    <tr>\n",
       "      <th>2381537</th>\n",
       "      <td>1995-07-28 13:32:17</td>\n",
       "      <td>1.0</td>\n",
       "      <td>28</td>\n",
       "    </tr>\n",
       "    <tr>\n",
       "      <th>2381538</th>\n",
       "      <td>1995-07-28 13:32:18</td>\n",
       "      <td>2.0</td>\n",
       "      <td>28</td>\n",
       "    </tr>\n",
       "    <tr>\n",
       "      <th>2381539</th>\n",
       "      <td>1995-07-28 13:32:19</td>\n",
       "      <td>2.0</td>\n",
       "      <td>28</td>\n",
       "    </tr>\n",
       "    <tr>\n",
       "      <th>2381540</th>\n",
       "      <td>1995-07-28 13:32:20</td>\n",
       "      <td>4.0</td>\n",
       "      <td>28</td>\n",
       "    </tr>\n",
       "    <tr>\n",
       "      <th>2381541</th>\n",
       "      <td>1995-07-28 13:32:21</td>\n",
       "      <td>3.0</td>\n",
       "      <td>28</td>\n",
       "    </tr>\n",
       "    <tr>\n",
       "      <th>2381542</th>\n",
       "      <td>1995-07-28 13:32:22</td>\n",
       "      <td>5.0</td>\n",
       "      <td>28</td>\n",
       "    </tr>\n",
       "    <tr>\n",
       "      <th>2381543</th>\n",
       "      <td>1995-07-28 13:32:23</td>\n",
       "      <td>3.0</td>\n",
       "      <td>28</td>\n",
       "    </tr>\n",
       "    <tr>\n",
       "      <th>2381544</th>\n",
       "      <td>1995-07-28 13:32:24</td>\n",
       "      <td>0.0</td>\n",
       "      <td>28</td>\n",
       "    </tr>\n",
       "    <tr>\n",
       "      <th>2381545</th>\n",
       "      <td>1995-07-28 13:32:25</td>\n",
       "      <td>1.0</td>\n",
       "      <td>28</td>\n",
       "    </tr>\n",
       "  </tbody>\n",
       "</table>\n",
       "<p>2381546 rows × 3 columns</p>\n",
       "</div>"
      ],
      "text/plain": [
       "                       date  quantity  day\n",
       "0       1995-07-01 00:00:00       0.0    1\n",
       "1       1995-07-01 00:00:01       1.0    1\n",
       "2       1995-07-01 00:00:02       0.0    1\n",
       "3       1995-07-01 00:00:03       0.0    1\n",
       "4       1995-07-01 00:00:04       0.0    1\n",
       "5       1995-07-01 00:00:05       0.0    1\n",
       "6       1995-07-01 00:00:06       1.0    1\n",
       "7       1995-07-01 00:00:07       0.0    1\n",
       "8       1995-07-01 00:00:08       0.0    1\n",
       "9       1995-07-01 00:00:09       1.0    1\n",
       "10      1995-07-01 00:00:10       0.0    1\n",
       "11      1995-07-01 00:00:11       2.0    1\n",
       "12      1995-07-01 00:00:12       3.0    1\n",
       "13      1995-07-01 00:00:13       2.0    1\n",
       "14      1995-07-01 00:00:14       3.0    1\n",
       "15      1995-07-01 00:00:15       3.0    1\n",
       "16      1995-07-01 00:00:16       0.0    1\n",
       "17      1995-07-01 00:00:17       2.0    1\n",
       "18      1995-07-01 00:00:18       1.0    1\n",
       "19      1995-07-01 00:00:19       2.0    1\n",
       "20      1995-07-01 00:00:20       0.0    1\n",
       "21      1995-07-01 00:00:21       0.0    1\n",
       "22      1995-07-01 00:00:22       0.0    1\n",
       "23      1995-07-01 00:00:23       0.0    1\n",
       "24      1995-07-01 00:00:24       1.0    1\n",
       "25      1995-07-01 00:00:25       1.0    1\n",
       "26      1995-07-01 00:00:26       0.0    1\n",
       "27      1995-07-01 00:00:27       1.0    1\n",
       "28      1995-07-01 00:00:28       0.0    1\n",
       "29      1995-07-01 00:00:29       1.0    1\n",
       "...                     ...       ...  ...\n",
       "2381516 1995-07-28 13:31:56       0.0   28\n",
       "2381517 1995-07-28 13:31:57       2.0   28\n",
       "2381518 1995-07-28 13:31:58       1.0   28\n",
       "2381519 1995-07-28 13:31:59       2.0   28\n",
       "2381520 1995-07-28 13:32:00       3.0   28\n",
       "2381521 1995-07-28 13:32:01       1.0   28\n",
       "2381522 1995-07-28 13:32:02       0.0   28\n",
       "2381523 1995-07-28 13:32:03       1.0   28\n",
       "2381524 1995-07-28 13:32:04       3.0   28\n",
       "2381525 1995-07-28 13:32:05       0.0   28\n",
       "2381526 1995-07-28 13:32:06       2.0   28\n",
       "2381527 1995-07-28 13:32:07       0.0   28\n",
       "2381528 1995-07-28 13:32:08       0.0   28\n",
       "2381529 1995-07-28 13:32:09       0.0   28\n",
       "2381530 1995-07-28 13:32:10       0.0   28\n",
       "2381531 1995-07-28 13:32:11       4.0   28\n",
       "2381532 1995-07-28 13:32:12       2.0   28\n",
       "2381533 1995-07-28 13:32:13       1.0   28\n",
       "2381534 1995-07-28 13:32:14       1.0   28\n",
       "2381535 1995-07-28 13:32:15       0.0   28\n",
       "2381536 1995-07-28 13:32:16       3.0   28\n",
       "2381537 1995-07-28 13:32:17       1.0   28\n",
       "2381538 1995-07-28 13:32:18       2.0   28\n",
       "2381539 1995-07-28 13:32:19       2.0   28\n",
       "2381540 1995-07-28 13:32:20       4.0   28\n",
       "2381541 1995-07-28 13:32:21       3.0   28\n",
       "2381542 1995-07-28 13:32:22       5.0   28\n",
       "2381543 1995-07-28 13:32:23       3.0   28\n",
       "2381544 1995-07-28 13:32:24       0.0   28\n",
       "2381545 1995-07-28 13:32:25       1.0   28\n",
       "\n",
       "[2381546 rows x 3 columns]"
      ]
     },
     "execution_count": 59,
     "metadata": {},
     "output_type": "execute_result"
    }
   ],
   "source": [
    "df44"
   ]
  },
  {
   "cell_type": "code",
   "execution_count": 13,
   "metadata": {
    "collapsed": true
   },
   "outputs": [],
   "source": [
    "df44['day'] = pd.DatetimeIndex(df44['date']).day"
   ]
  },
  {
   "cell_type": "code",
   "execution_count": 14,
   "metadata": {
    "collapsed": true
   },
   "outputs": [],
   "source": [
    "arr = df44.groupby('day')['quantity'].sum().tolist()"
   ]
  },
  {
   "cell_type": "code",
   "execution_count": 15,
   "metadata": {},
   "outputs": [
    {
     "name": "stdout",
     "output_type": "stream",
     "text": [
      "0.7490046296296297\n",
      "0.697511574074074\n",
      "1.0368055555555555\n",
      "0.8154166666666667\n",
      "1.0946180555555556\n",
      "1.1685185185185185\n",
      "1.0096296296296297\n",
      "0.44984953703703706\n",
      "0.40824074074074074\n",
      "0.843287037037037\n",
      "0.9306365740740741\n",
      "1.0710069444444446\n",
      "1.553263888888889\n",
      "0.9733912037037037\n",
      "0.5269907407407407\n",
      "0.5538657407407407\n",
      "0.8678356481481482\n",
      "0.7439930555555555\n",
      "0.8418634259259259\n",
      "0.7707523148148148\n",
      "0.7479976851851852\n",
      "0.4081712962962963\n",
      "0.4536921296296296\n",
      "0.7437384259259259\n",
      "0.7256828703703704\n",
      "0.6811226851851852\n",
      "0.7138888888888889\n",
      "0.313900462962963\n"
     ]
    }
   ],
   "source": [
    "sum = 0\n",
    "for i in arr:\n",
    "    print((i/86400))\n",
    "    sum+=(i/86400)"
   ]
  },
  {
   "cell_type": "code",
   "execution_count": null,
   "metadata": {
    "collapsed": true
   },
   "outputs": [],
   "source": []
  },
  {
   "cell_type": "code",
   "execution_count": null,
   "metadata": {
    "collapsed": true
   },
   "outputs": [],
   "source": []
  },
  {
   "cell_type": "code",
   "execution_count": null,
   "metadata": {
    "collapsed": true
   },
   "outputs": [],
   "source": []
  },
  {
   "cell_type": "code",
   "execution_count": null,
   "metadata": {
    "collapsed": true
   },
   "outputs": [],
   "source": []
  },
  {
   "cell_type": "code",
   "execution_count": 16,
   "metadata": {
    "scrolled": true
   },
   "outputs": [
    {
     "data": {
      "image/png": "[encoded data removed]",
      "text/plain": [
       "<matplotlib.figure.Figure at 0x10eb36198>"
      ]
     },
     "metadata": {},
     "output_type": "display_data"
    }
   ],
   "source": [
    "df44.groupby('day')['quantity'].sum().plot(style='k--');"
   ]
  },
  {
   "cell_type": "code",
   "execution_count": null,
   "metadata": {},
   "outputs": [],
   "source": []
  },
  {
   "cell_type": "code",
   "execution_count": null,
   "metadata": {
    "collapsed": true
   },
   "outputs": [],
   "source": []
  },
  {
   "cell_type": "code",
   "execution_count": null,
   "metadata": {
    "collapsed": true
   },
   "outputs": [],
   "source": []
  },
  {
   "cell_type": "code",
   "execution_count": null,
   "metadata": {
    "collapsed": true
   },
   "outputs": [],
   "source": []
  },
  {
   "cell_type": "code",
   "execution_count": null,
   "metadata": {
    "collapsed": true
   },
   "outputs": [],
   "source": []
  },
  {
   "cell_type": "code",
   "execution_count": null,
   "metadata": {
    "collapsed": true
   },
   "outputs": [],
   "source": []
  },
  {
   "cell_type": "code",
   "execution_count": null,
   "metadata": {
    "collapsed": true
   },
   "outputs": [],
   "source": []
  },
  {
   "cell_type": "code",
   "execution_count": null,
   "metadata": {
    "collapsed": true
   },
   "outputs": [],
   "source": []
  },
  {
   "cell_type": "code",
   "execution_count": null,
   "metadata": {},
   "outputs": [],
   "source": []
  },
  {
   "cell_type": "code",
   "execution_count": 18,
   "metadata": {},
   "outputs": [
    {
     "data": {
      "text/plain": [
       "<matplotlib.axes._subplots.AxesSubplot at 0x123c96b00>"
      ]
     },
     "execution_count": 18,
     "metadata": {},
     "output_type": "execute_result"
    },
    {
     "data": {
      "image/png": "[encoded data removed]",
      "text/plain": [
       "<matplotlib.figure.Figure at 0x123c5b358>"
      ]
     },
     "metadata": {},
     "output_type": "display_data"
    }
   ],
   "source": [
    "df44.plot(x='date',y='quantity',grid=True,legend=False,sharey=True,rot=0)"
   ]
  },
  {
   "cell_type": "code",
   "execution_count": null,
   "metadata": {
    "collapsed": true,
    "scrolled": true
   },
   "outputs": [],
   "source": [
    "\n"
   ]
  },
  {
   "cell_type": "code",
   "execution_count": null,
   "metadata": {
    "collapsed": true
   },
   "outputs": [],
   "source": []
  },
  {
   "cell_type": "code",
   "execution_count": null,
   "metadata": {
    "collapsed": true
   },
   "outputs": [],
   "source": []
  },
  {
   "cell_type": "code",
   "execution_count": null,
   "metadata": {
    "collapsed": true
   },
   "outputs": [],
   "source": []
  },
  {
   "cell_type": "code",
   "execution_count": null,
   "metadata": {
    "collapsed": true
   },
   "outputs": [],
   "source": []
  },
  {
   "cell_type": "code",
   "execution_count": null,
   "metadata": {
    "collapsed": true
   },
   "outputs": [],
   "source": []
  },
  {
   "cell_type": "code",
   "execution_count": null,
   "metadata": {
    "collapsed": true
   },
   "outputs": [],
   "source": []
  },
  {
   "cell_type": "code",
   "execution_count": null,
   "metadata": {
    "collapsed": true
   },
   "outputs": [],
   "source": []
  },
  {
   "cell_type": "code",
   "execution_count": 19,
   "metadata": {
    "collapsed": true
   },
   "outputs": [],
   "source": [
    "# plt.plot(df44['date'], df44['quantity'],'*')\n",
    "# plt.xticks(rotation='vertical')"
   ]
  },
  {
   "cell_type": "code",
   "execution_count": null,
   "metadata": {
    "collapsed": true
   },
   "outputs": [],
   "source": []
  },
  {
   "cell_type": "code",
   "execution_count": 20,
   "metadata": {
    "collapsed": true
   },
   "outputs": [],
   "source": [
    "df44['day'] = pd.DatetimeIndex(df44['date']).day"
   ]
  },
  {
   "cell_type": "code",
   "execution_count": 38,
   "metadata": {},
   "outputs": [],
   "source": [
    "df['day'] = pd.DatetimeIndex(df['time']).day\n"
   ]
  },
  {
   "cell_type": "code",
   "execution_count": 40,
   "metadata": {},
   "outputs": [],
   "source": [
    "df[df['bitr'] == '-'] = 0\n",
    "df['bitr'] = df['bitr'].astype(float)"
   ]
  },
  {
   "cell_type": "code",
   "execution_count": 61,
   "metadata": {
    "collapsed": true
   },
   "outputs": [],
   "source": [
    "plt.rcParams['figure.figsize'] = (10,6)"
   ]
  },
  {
   "cell_type": "code",
   "execution_count": 78,
   "metadata": {},
   "outputs": [],
   "source": [
    "dfm = df[['day','bitr']]"
   ]
  },
  {
   "cell_type": "code",
   "execution_count": null,
   "metadata": {},
   "outputs": [],
   "source": [
    "dfm.head()"
   ]
  },
  {
   "cell_type": "code",
   "execution_count": 99,
   "metadata": {},
   "outputs": [
    {
     "data": {
      "text/plain": [
       "count    1891700\n",
       "mean       20455\n",
       "std        76957\n",
       "min            0\n",
       "25%          786\n",
       "50%         3635\n",
       "75%        11853\n",
       "max      6823936\n",
       "Name: bitr, dtype: int64"
      ]
     },
     "execution_count": 99,
     "metadata": {},
     "output_type": "execute_result"
    }
   ],
   "source": [
    "dfm['bitr'].describe().astype(int)"
   ]
  },
  {
   "cell_type": "code",
   "execution_count": null,
   "metadata": {
    "collapsed": true
   },
   "outputs": [],
   "source": []
  },
  {
   "cell_type": "code",
   "execution_count": 22,
   "metadata": {},
   "outputs": [],
   "source": [
    "# df[df['bitr'] == '-'] = 0\n",
    "# df['bitr'] = df['bitr'].astype(float)"
   ]
  },
  {
   "cell_type": "code",
   "execution_count": 23,
   "metadata": {
    "scrolled": true
   },
   "outputs": [],
   "source": [
    "\n"
   ]
  },
  {
   "cell_type": "code",
   "execution_count": 29,
   "metadata": {
    "collapsed": true
   },
   "outputs": [],
   "source": [
    "# df.groupby('day')['requests'].count()"
   ]
  },
  {
   "cell_type": "code",
   "execution_count": null,
   "metadata": {},
   "outputs": [],
   "source": []
  },
  {
   "cell_type": "code",
   "execution_count": 41,
   "metadata": {},
   "outputs": [
    {
     "data": {
      "text/plain": [
       "array([[<matplotlib.axes._subplots.AxesSubplot object at 0x11911a240>]],\n",
       "      dtype=object)"
      ]
     },
     "execution_count": 41,
     "metadata": {},
     "output_type": "execute_result"
    },
    {
     "data": {
      "image/png": "[encoded data removed]",
      "text/plain": [
       "<matplotlib.figure.Figure at 0x13584c518>"
      ]
     },
     "metadata": {},
     "output_type": "display_data"
    }
   ],
   "source": [
    "# dfm[:1000].hist()\n",
    "# plt.rcParams['figure.figsize'] = (10,6)\n",
    "# import matplotlib\n",
    "# matplotlib.style.use('ggplot')"
   ]
  },
  {
   "cell_type": "code",
   "execution_count": 24,
   "metadata": {},
   "outputs": [],
   "source": []
  },
  {
   "cell_type": "code",
   "execution_count": null,
   "metadata": {},
   "outputs": [],
   "source": []
  }
 ],
 "metadata": {
  "kernelspec": {
   "display_name": "Python 3",
   "language": "python",
   "name": "python3"
  }
 },
 "nbformat": 4,
 "nbformat_minor": 2
}
